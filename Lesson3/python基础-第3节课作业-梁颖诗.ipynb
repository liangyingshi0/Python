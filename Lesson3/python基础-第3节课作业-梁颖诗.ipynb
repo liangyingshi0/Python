{
 "cells": [
  {
   "cell_type": "markdown",
   "metadata": {},
   "source": [
    "## 1. 实现`print`函数\n",
    "定义一个函数`print_string`，返回一个字符串。  \n",
    "`print_string`函数支持输入多个参数，每个参数间使用参数`sep`(默认一个空格)的字符进行连接，并且最后还要添加一个`end`(默认一个换行)参数的字符。  \n",
    "比如\n",
    "- `print_string('This is a test')` 返回`This is a test\\n`  \n",
    "- `print_string('This', 'is', 'a', 'test')` 返回`This is a test\\n`\n",
    "- `print_string('This', 'is', 'a', 'test', sep = '-')` 返回`This-is-a-test\\n`\n",
    "- `print_string('This', 'is', 'a', 'test', ',', 'Yes', sep = '_', end = '.')` 返回`This_is_a_test_,_Yes.`"
   ]
  },
  {
   "cell_type": "code",
   "execution_count": 18,
   "metadata": {},
   "outputs": [
    {
     "name": "stdout",
     "output_type": "stream",
     "text": [
      "This is a test \n",
      "\n",
      "This is a test \n",
      "\n",
      "This-is-a-test \n",
      "\n",
      "This_is_a_test_,_Yes .\n"
     ]
    }
   ],
   "source": [
    "def print_string(*strs, sep=' ', end='\\n'):\n",
    "    for index,s in enumerate(strs):\n",
    "        if index+1 == len(strs):\n",
    "            print(s, end)\n",
    "        else:\n",
    "            print(s, end=sep)\n",
    "\n",
    "print_string('This is a test')\n",
    "print_string('This', 'is', 'a', 'test')\n",
    "print_string('This', 'is', 'a', 'test', sep = '-')\n",
    "print_string('This', 'is', 'a', 'test', ',', 'Yes', sep = '_', end = '.')"
   ]
  },
  {
   "cell_type": "markdown",
   "metadata": {},
   "source": [
    "## 2. 打印斐波那契数列\n",
    "以三种方式打印波那契数列    \n",
    "给定一个数值n，将前n项的波那契数列打印出来"
   ]
  },
  {
   "cell_type": "code",
   "execution_count": 35,
   "metadata": {},
   "outputs": [
    {
     "name": "stdout",
     "output_type": "stream",
     "text": [
      "请输入n：4\n",
      "[1, 1, 2, 3]\n"
     ]
    }
   ],
   "source": [
    "# 第一种：\n",
    "\n",
    "def Fibnonacci(n):\n",
    "    nums = list()\n",
    "    if n<=0:\n",
    "        print('输入错误。')\n",
    "    else:\n",
    "        for i in range(n):\n",
    "            if i<=1:\n",
    "                nums.append(1)\n",
    "            else:\n",
    "                num = nums[i-1]+nums[i-2]\n",
    "                nums.append(num)\n",
    "    print(nums)\n",
    "\n",
    "n = int(input('请输入n：'))\n",
    "Fibnonacci(n)"
   ]
  },
  {
   "cell_type": "code",
   "execution_count": 1,
   "metadata": {},
   "outputs": [
    {
     "name": "stdout",
     "output_type": "stream",
     "text": [
      "请输入n：5\n",
      "[1, 1, 2, 3, 5]\n"
     ]
    }
   ],
   "source": [
    "# 第二种：\n",
    "\n",
    "n = int(input('请输入n：'))\n",
    "nums = []\n",
    "for i in range(n):\n",
    "    if i<=1:\n",
    "        nums.append(1)\n",
    "    else:\n",
    "        num = nums[i-1]+nums[i-2]\n",
    "        nums.append(num)\n",
    "print(nums)"
   ]
  },
  {
   "cell_type": "code",
   "execution_count": 3,
   "metadata": {},
   "outputs": [
    {
     "name": "stdout",
     "output_type": "stream",
     "text": [
      "请输入n：6\n",
      "[1, 1, 2, 3, 5, 8]\n"
     ]
    }
   ],
   "source": [
    "# 第三种：\n",
    "\n",
    "n = int(input('请输入n：'))\n",
    "nums = []\n",
    "i = 0\n",
    "while i<n:\n",
    "    if i<=1:\n",
    "        nums.append(1)\n",
    "    else:\n",
    "        num = nums[i-1]+nums[i-2]\n",
    "        nums.append(num)\n",
    "    i+=1\n",
    "print(nums)"
   ]
  },
  {
   "cell_type": "markdown",
   "metadata": {},
   "source": [
    "不会使用notebook，使用作业.PDF文件查看作业，上传.py文件"
   ]
  }
 ],
 "metadata": {
  "kernelspec": {
   "display_name": "Python 3",
   "language": "python",
   "name": "python3"
  },
  "language_info": {
   "codemirror_mode": {
    "name": "ipython",
    "version": 3
   },
   "file_extension": ".py",
   "mimetype": "text/x-python",
   "name": "python",
   "nbconvert_exporter": "python",
   "pygments_lexer": "ipython3",
   "version": "3.7.3"
  }
 },
 "nbformat": 4,
 "nbformat_minor": 4
}
